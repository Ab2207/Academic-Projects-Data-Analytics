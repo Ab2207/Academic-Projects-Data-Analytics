{
  "nbformat": 4,
  "nbformat_minor": 0,
  "metadata": {
    "colab": {
      "name": "Experiment 1_State of the Art.ipynb",
      "provenance": [],
      "collapsed_sections": [],
      "authorship_tag": "ABX9TyNhHxmd5QRLQbTtxASQzrxo",
      "include_colab_link": true
    },
    "kernelspec": {
      "name": "python3",
      "display_name": "Python 3"
    }
  },
  "cells": [
    {
      "cell_type": "markdown",
      "metadata": {
        "id": "view-in-github",
        "colab_type": "text"
      },
      "source": [
        "<a href=\"https://colab.research.google.com/github/Ab2207/Academic-Projects-Data-Analytics/blob/main/Masters%20Thesis%20Experiment%201.ipynb\" target=\"_parent\"><img src=\"https://colab.research.google.com/assets/colab-badge.svg\" alt=\"Open In Colab\"/></a>"
      ]
    },
    {
      "cell_type": "code",
      "metadata": {
        "id": "b8PNJMZ56cc_",
        "colab": {
          "base_uri": "https://localhost:8080/"
        },
        "outputId": "8f9ac4e2-0a36-4ad9-a3c4-4fec58b4526a"
      },
      "source": [
        "from google.colab import drive\n",
        "drive.mount('/content/gdrive')"
      ],
      "execution_count": null,
      "outputs": [
        {
          "output_type": "stream",
          "text": [
            "Mounted at /content/gdrive\n"
          ],
          "name": "stdout"
        }
      ]
    },
    {
      "cell_type": "code",
      "metadata": {
        "id": "hfzwMYH97hqd",
        "colab": {
          "base_uri": "https://localhost:8080/"
        },
        "outputId": "cd44ce8a-09be-44ba-9e82-49093022aac7"
      },
      "source": [
        "import pandas as pd\n",
        "import numpy as np \n",
        "import string \n",
        "string.punctuation\n",
        "import nltk\n",
        "nltk.download('stopwords')\n",
        "from nltk.corpus import stopwords\n",
        "stopwords.words('english')\n",
        "import re\n",
        "import unicodedata\n",
        "import tensorflow as tf\n",
        "from sklearn.feature_extraction.text import CountVectorizer\n",
        "from keras.preprocessing.text import Tokenizer\n",
        "from keras.preprocessing.sequence import pad_sequences\n",
        "from keras.models import Sequential\n",
        "from keras.layers import Dense, Embedding, LSTM, SpatialDropout1D, Dropout, Activation\n",
        "from sklearn.model_selection import train_test_split\n",
        "from keras.utils.np_utils import to_categorical"
      ],
      "execution_count": null,
      "outputs": [
        {
          "output_type": "stream",
          "text": [
            "[nltk_data] Downloading package stopwords to /root/nltk_data...\n",
            "[nltk_data]   Unzipping corpora/stopwords.zip.\n"
          ],
          "name": "stdout"
        }
      ]
    },
    {
      "cell_type": "code",
      "metadata": {
        "id": "7XAJl6v07htR"
      },
      "source": [
        "data = pd.read_csv(\"/content/gdrive/My Drive/Airline_Tweets.csv\")"
      ],
      "execution_count": null,
      "outputs": []
    },
    {
      "cell_type": "code",
      "metadata": {
        "id": "caj3DCH47hvw"
      },
      "source": [
        "def tweets_cleaning(text):\n",
        "    lowercase = text.lower()\n",
        "    punc_removal = [char for char in lowercase if char not in string.punctuation]\n",
        "    punc_removal_joined = ''.join(punc_removal)\n",
        "    url_removal = re.sub(r'(https|http)?:\\/\\/(\\w|\\.|\\/|\\?|\\=|\\&|\\%)*\\b', '', punc_removal_joined, flags=re.MULTILINE)\n",
        "    emoji_removal = url_removal.encode('ascii', 'ignore').decode('ascii')\n",
        "    stopwords_removal = [word for word in emoji_removal.split() if word not in stopwords.words('english')]\n",
        "    return stopwords_removal"
      ],
      "execution_count": null,
      "outputs": []
    },
    {
      "cell_type": "code",
      "metadata": {
        "id": "C9MucD7d7hyq"
      },
      "source": [
        "data['cleaned_text'] = data['text'].apply(tweets_cleaning).astype(str)"
      ],
      "execution_count": null,
      "outputs": []
    },
    {
      "cell_type": "code",
      "metadata": {
        "id": "dzkCOkI47h1R"
      },
      "source": [
        "train_conditionList = [\n",
        "                 data['airline_sentiment'] == 'negative',\n",
        "                 data['airline_sentiment'] == 'positive',\n",
        "                 data['airline_sentiment'] == 'neutral'\n",
        "                 ]\n",
        "train_choiceList = ['-1', '1' ,'0']\n",
        "data['target'] = np.select(train_conditionList, train_choiceList, default='no_label')"
      ],
      "execution_count": null,
      "outputs": []
    },
    {
      "cell_type": "code",
      "metadata": {
        "id": "0q1sV9Bb7iD9"
      },
      "source": [
        "max_fatures = 16561\n",
        "tokenizer = Tokenizer(num_words=max_fatures, split=' ')\n",
        "tokenizer.fit_on_texts(data['cleaned_text'].values)\n",
        "X = tokenizer.texts_to_sequences(data['cleaned_text'].values)\n",
        "X = pad_sequences(X, maxlen=26, padding='post')"
      ],
      "execution_count": null,
      "outputs": []
    },
    {
      "cell_type": "code",
      "metadata": {
        "id": "JavBqy9M-A7g",
        "colab": {
          "base_uri": "https://localhost:8080/"
        },
        "outputId": "e86c77dd-07f9-4005-e446-2429221d7aae"
      },
      "source": [
        "embeddings_index = dict()\n",
        "f = open('/content/gdrive/My Drive/glove.twitter.27B.200d.txt')\n",
        "for line in f:\n",
        "\tvalues = line.split()\n",
        "\tword = values[0]\n",
        "\tcoefs = np.asarray(values[1:], dtype='float32')\n",
        "\tembeddings_index[word] = coefs\n",
        "f.close()\n",
        "print('Loaded %s word vectors.' % len(embeddings_index))"
      ],
      "execution_count": null,
      "outputs": [
        {
          "output_type": "stream",
          "text": [
            "Loaded 1193514 word vectors.\n"
          ],
          "name": "stdout"
        }
      ]
    },
    {
      "cell_type": "code",
      "metadata": {
        "id": "M1NuyjVa-A-Q"
      },
      "source": [
        "embedding_matrix = np.zeros((max_fatures, 200))\n",
        "for word, i in tokenizer.word_index.items():\n",
        "\tembedding_vector = embeddings_index.get(word)\n",
        "\tif embedding_vector is not None:\n",
        "\t\tembedding_matrix[i] = embedding_vector"
      ],
      "execution_count": null,
      "outputs": []
    },
    {
      "cell_type": "code",
      "metadata": {
        "id": "srSTGVLK76Si",
        "colab": {
          "base_uri": "https://localhost:8080/"
        },
        "outputId": "33a002de-1f7d-4f06-f814-61adda6f0aac"
      },
      "source": [
        "embed_dim = 200\n",
        "lstm_out = 128\n",
        "\n",
        "model = Sequential()\n",
        "model.add(Embedding(max_fatures, embed_dim,input_length = X.shape[1], weights=[embedding_matrix],trainable=False))\n",
        "model.add(LSTM(lstm_out, return_sequences=True))\n",
        "model.add(Dropout(0.3))\n",
        "model.add(LSTM(lstm_out))\n",
        "model.add(Dropout(0.3))\n",
        "model.add(Dense(3))\n",
        "model.add(Activation('softmax'))\n",
        "model.compile(loss = 'categorical_crossentropy', optimizer='adam',metrics = ['accuracy'])\n",
        "print(model.summary())"
      ],
      "execution_count": null,
      "outputs": [
        {
          "output_type": "stream",
          "text": [
            "Model: \"sequential\"\n",
            "_________________________________________________________________\n",
            "Layer (type)                 Output Shape              Param #   \n",
            "=================================================================\n",
            "embedding (Embedding)        (None, 26, 200)           3312200   \n",
            "_________________________________________________________________\n",
            "lstm (LSTM)                  (None, 26, 128)           168448    \n",
            "_________________________________________________________________\n",
            "dropout (Dropout)            (None, 26, 128)           0         \n",
            "_________________________________________________________________\n",
            "lstm_1 (LSTM)                (None, 128)               131584    \n",
            "_________________________________________________________________\n",
            "dropout_1 (Dropout)          (None, 128)               0         \n",
            "_________________________________________________________________\n",
            "dense (Dense)                (None, 3)                 387       \n",
            "_________________________________________________________________\n",
            "activation (Activation)      (None, 3)                 0         \n",
            "=================================================================\n",
            "Total params: 3,612,619\n",
            "Trainable params: 300,419\n",
            "Non-trainable params: 3,312,200\n",
            "_________________________________________________________________\n",
            "None\n"
          ],
          "name": "stdout"
        }
      ]
    },
    {
      "cell_type": "code",
      "metadata": {
        "id": "667bs0hZ76VS",
        "colab": {
          "base_uri": "https://localhost:8080/"
        },
        "outputId": "06e941a5-fb26-4d71-97e8-52edf0b0c0d2"
      },
      "source": [
        "Y = pd.get_dummies(data['target']).values\n",
        "X_train, X_test, Y_train, Y_test = train_test_split(X,Y, test_size = 0.20, random_state = 1234)\n",
        "print(X_train.shape,Y_train.shape)\n",
        "print(X_test.shape,Y_test.shape)"
      ],
      "execution_count": null,
      "outputs": [
        {
          "output_type": "stream",
          "text": [
            "(11712, 26) (11712, 3)\n",
            "(2928, 26) (2928, 3)\n"
          ],
          "name": "stdout"
        }
      ]
    },
    {
      "cell_type": "code",
      "metadata": {
        "id": "GN7IYJsk76X9",
        "colab": {
          "base_uri": "https://localhost:8080/"
        },
        "outputId": "2a933271-b000-47da-cbff-b42d2c757ed7"
      },
      "source": [
        "batch_size = 32\n",
        "history = model.fit(X_train, Y_train, epochs = 14, verbose = 1, validation_data=(X_test, Y_test), batch_size=batch_size)"
      ],
      "execution_count": null,
      "outputs": [
        {
          "output_type": "stream",
          "text": [
            "Epoch 1/14\n",
            "366/366 [==============================] - 23s 62ms/step - loss: 0.9273 - accuracy: 0.6259 - val_loss: 0.9121 - val_accuracy: 0.6308\n",
            "Epoch 2/14\n",
            "366/366 [==============================] - 22s 60ms/step - loss: 0.9203 - accuracy: 0.6259 - val_loss: 0.9121 - val_accuracy: 0.6308\n",
            "Epoch 3/14\n",
            "366/366 [==============================] - 22s 60ms/step - loss: 0.9196 - accuracy: 0.6259 - val_loss: 0.9140 - val_accuracy: 0.6308\n",
            "Epoch 4/14\n",
            "366/366 [==============================] - 22s 59ms/step - loss: 0.9192 - accuracy: 0.6259 - val_loss: 0.9122 - val_accuracy: 0.6308\n",
            "Epoch 5/14\n",
            "366/366 [==============================] - 22s 60ms/step - loss: 0.9189 - accuracy: 0.6259 - val_loss: 0.9123 - val_accuracy: 0.6308\n",
            "Epoch 6/14\n",
            "366/366 [==============================] - 22s 60ms/step - loss: 0.9198 - accuracy: 0.6259 - val_loss: 0.9130 - val_accuracy: 0.6308\n",
            "Epoch 7/14\n",
            "366/366 [==============================] - 22s 59ms/step - loss: 0.9192 - accuracy: 0.6259 - val_loss: 0.9122 - val_accuracy: 0.6308\n",
            "Epoch 8/14\n",
            "366/366 [==============================] - 22s 59ms/step - loss: 0.9183 - accuracy: 0.6259 - val_loss: 0.9125 - val_accuracy: 0.6308\n",
            "Epoch 9/14\n",
            "366/366 [==============================] - 22s 60ms/step - loss: 0.9188 - accuracy: 0.6259 - val_loss: 0.9128 - val_accuracy: 0.6308\n",
            "Epoch 10/14\n",
            "366/366 [==============================] - 22s 60ms/step - loss: 0.9184 - accuracy: 0.6259 - val_loss: 0.9126 - val_accuracy: 0.6308\n",
            "Epoch 11/14\n",
            "366/366 [==============================] - 22s 60ms/step - loss: 0.9192 - accuracy: 0.6259 - val_loss: 0.9119 - val_accuracy: 0.6308\n",
            "Epoch 12/14\n",
            "366/366 [==============================] - 22s 60ms/step - loss: 0.9189 - accuracy: 0.6259 - val_loss: 0.9121 - val_accuracy: 0.6308\n",
            "Epoch 13/14\n",
            "366/366 [==============================] - 22s 60ms/step - loss: 0.9187 - accuracy: 0.6259 - val_loss: 0.9126 - val_accuracy: 0.6308\n",
            "Epoch 14/14\n",
            "366/366 [==============================] - 22s 60ms/step - loss: 0.9183 - accuracy: 0.6259 - val_loss: 0.9131 - val_accuracy: 0.6308\n"
          ],
          "name": "stdout"
        }
      ]
    },
    {
      "cell_type": "code",
      "metadata": {
        "id": "eoZUx6ke76dI",
        "colab": {
          "base_uri": "https://localhost:8080/",
          "height": 295
        },
        "outputId": "316de4ba-0822-45e6-a694-6c1d63430b6f"
      },
      "source": [
        "plt.plot(history.history['loss'])\n",
        "plt.plot(history.history['val_loss'])\n",
        "plt.title('model loss')\n",
        "plt.ylabel('loss')\n",
        "plt.xlabel('epoch')\n",
        "plt.legend(['train', 'test'], loc='upper left')\n",
        "plt.show()"
      ],
      "execution_count": null,
      "outputs": [
        {
          "output_type": "display_data",
          "data": {
            "image/png": "[encoded data removed]",
            "text/plain": [
              "<Figure size 432x288 with 1 Axes>"
            ]
          },
          "metadata": {
            "tags": [],
            "needs_background": "light"
          }
        }
      ]
    }
  ]
}