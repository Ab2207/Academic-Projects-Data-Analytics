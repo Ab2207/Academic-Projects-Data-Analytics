{
 "cells": [
  {
   "cell_type": "code",
   "execution_count": 3,
   "metadata": {
    "scrolled": true
   },
   "outputs": [
    {
     "name": "stdout",
     "output_type": "stream",
     "text": [
      "Collecting tensorflow-hub\n",
      "  Downloading tensorflow_hub-0.8.0-py2.py3-none-any.whl (101 kB)\n",
      "Requirement already satisfied: numpy>=1.12.0 in c:\\users\\ab\\anaconda3\\lib\\site-packages (from tensorflow-hub) (1.18.1)\n",
      "Requirement already satisfied: six>=1.12.0 in c:\\users\\ab\\anaconda3\\lib\\site-packages (from tensorflow-hub) (1.14.0)\n",
      "Requirement already satisfied: protobuf>=3.8.0 in c:\\users\\ab\\anaconda3\\lib\\site-packages (from tensorflow-hub) (3.12.2)\n",
      "Requirement already satisfied: setuptools in c:\\users\\ab\\anaconda3\\lib\\site-packages (from protobuf>=3.8.0->tensorflow-hub) (45.2.0.post20200210)\n",
      "Installing collected packages: tensorflow-hub\n",
      "Successfully installed tensorflow-hub-0.8.0\n",
      "Collecting tfds-nightly\n",
      "  Downloading tfds_nightly-3.1.0.dev202006040105-py3-none-any.whl (3.3 MB)\n",
      "Requirement already satisfied: numpy in c:\\users\\ab\\anaconda3\\lib\\site-packages (from tfds-nightly) (1.18.1)\n",
      "Requirement already satisfied: future in c:\\users\\ab\\anaconda3\\lib\\site-packages (from tfds-nightly) (0.18.2)\n",
      "Requirement already satisfied: termcolor in c:\\users\\ab\\anaconda3\\lib\\site-packages (from tfds-nightly) (1.1.0)\n",
      "Requirement already satisfied: attrs>=18.1.0 in c:\\users\\ab\\anaconda3\\lib\\site-packages (from tfds-nightly) (19.3.0)\n",
      "Requirement already satisfied: six in c:\\users\\ab\\anaconda3\\lib\\site-packages (from tfds-nightly) (1.14.0)\n",
      "Requirement already satisfied: wrapt in c:\\users\\ab\\anaconda3\\lib\\site-packages (from tfds-nightly) (1.11.2)\n",
      "Requirement already satisfied: tqdm in c:\\users\\ab\\anaconda3\\lib\\site-packages (from tfds-nightly) (4.42.1)\n",
      "Collecting promise\n",
      "  Downloading promise-2.3.tar.gz (19 kB)\n",
      "Collecting dill\n",
      "  Downloading dill-0.3.1.1.tar.gz (151 kB)\n",
      "Requirement already satisfied: absl-py in c:\\users\\ab\\anaconda3\\lib\\site-packages (from tfds-nightly) (0.9.0)\n",
      "Requirement already satisfied: requests>=2.19.0 in c:\\users\\ab\\anaconda3\\lib\\site-packages (from tfds-nightly) (2.22.0)\n",
      "Collecting tensorflow-metadata\n",
      "  Downloading tensorflow_metadata-0.22.1-py2.py3-none-any.whl (31 kB)\n",
      "Requirement already satisfied: protobuf>=3.6.1 in c:\\users\\ab\\anaconda3\\lib\\site-packages (from tfds-nightly) (3.12.2)\n",
      "Requirement already satisfied: idna<2.9,>=2.5 in c:\\users\\ab\\anaconda3\\lib\\site-packages (from requests>=2.19.0->tfds-nightly) (2.8)\n",
      "Requirement already satisfied: urllib3!=1.25.0,!=1.25.1,<1.26,>=1.21.1 in c:\\users\\ab\\anaconda3\\lib\\site-packages (from requests>=2.19.0->tfds-nightly) (1.25.8)\n",
      "Requirement already satisfied: certifi>=2017.4.17 in c:\\users\\ab\\anaconda3\\lib\\site-packages (from requests>=2.19.0->tfds-nightly) (2019.11.28)\n",
      "Requirement already satisfied: chardet<3.1.0,>=3.0.2 in c:\\users\\ab\\anaconda3\\lib\\site-packages (from requests>=2.19.0->tfds-nightly) (3.0.4)\n",
      "Collecting googleapis-common-protos\n",
      "  Downloading googleapis_common_protos-1.52.0-py2.py3-none-any.whl (100 kB)\n",
      "Requirement already satisfied: setuptools in c:\\users\\ab\\anaconda3\\lib\\site-packages (from protobuf>=3.6.1->tfds-nightly) (45.2.0.post20200210)\n",
      "Building wheels for collected packages: promise, dill\n",
      "  Building wheel for promise (setup.py): started\n",
      "  Building wheel for promise (setup.py): finished with status 'done'\n",
      "  Created wheel for promise: filename=promise-2.3-py3-none-any.whl size=21499 sha256=4c8b94667fb0352e4b3d6a1eccc35959816fc5d664035d6916aa0a39bcc32fef\n",
      "  Stored in directory: c:\\users\\ab\\appdata\\local\\pip\\cache\\wheels\\29\\93\\c6\\762e359f8cb6a5b69c72235d798804cae523bbe41c2aa8333d\n",
      "  Building wheel for dill (setup.py): started\n",
      "  Building wheel for dill (setup.py): finished with status 'done'\n",
      "  Created wheel for dill: filename=dill-0.3.1.1-py3-none-any.whl size=78597 sha256=645d3fbd4c4a5f7e17f4dc0ae9fc04021a2f8f8775176fecede92d4af6663a56\n",
      "  Stored in directory: c:\\users\\ab\\appdata\\local\\pip\\cache\\wheels\\a4\\61\\fd\\c57e374e580aa78a45ed78d5859b3a44436af17e22ca53284f\n",
      "Successfully built promise dill\n",
      "Installing collected packages: promise, dill, googleapis-common-protos, tensorflow-metadata, tfds-nightly\n",
      "Successfully installed dill-0.3.1.1 googleapis-common-protos-1.52.0 promise-2.3 tensorflow-metadata-0.22.1 tfds-nightly-3.1.0.dev202006040105\n"
     ]
    }
   ],
   "source": [
    "import numpy as np \n",
    "import tensorflow as tf \n",
    "\n",
    "!pip install tensorflow-hub\n",
    "!pip install tfds-nightly\n",
    "\n",
    "import tensorflow_hub as hub\n",
    "import tensorflow_datasets as tfds"
   ]
  },
  {
   "cell_type": "code",
   "execution_count": 4,
   "metadata": {
    "scrolled": true
   },
   "outputs": [
    {
     "name": "stdout",
     "output_type": "stream",
     "text": [
      "\u001b[1mDownloading and preparing dataset imdb_reviews/plain_text/1.0.0 (download: 80.23 MiB, generated: Unknown size, total: 80.23 MiB) to C:\\Users\\AB\\tensorflow_datasets\\imdb_reviews\\plain_text\\1.0.0...\u001b[0m\n"
     ]
    },
    {
     "data": {
      "application/vnd.jupyter.widget-view+json": {
       "model_id": "a682789e76da4e65a63b4ffd3335fb05",
       "version_major": 2,
       "version_minor": 0
      },
      "text/plain": [
       "HBox(children=(FloatProgress(value=1.0, bar_style='info', description='Dl Completed...', max=1.0, style=Progre…"
      ]
     },
     "metadata": {},
     "output_type": "display_data"
    },
    {
     "data": {
      "application/vnd.jupyter.widget-view+json": {
       "model_id": "0a25f81d1a5c4f2f89041918e068b261",
       "version_major": 2,
       "version_minor": 0
      },
      "text/plain": [
       "HBox(children=(FloatProgress(value=1.0, bar_style='info', description='Dl Size...', max=1.0, style=ProgressSty…"
      ]
     },
     "metadata": {},
     "output_type": "display_data"
    },
    {
     "name": "stdout",
     "output_type": "stream",
     "text": [
      "\n",
      "\n",
      "\n",
      "\n"
     ]
    },
    {
     "data": {
      "application/vnd.jupyter.widget-view+json": {
       "model_id": "",
       "version_major": 2,
       "version_minor": 0
      },
      "text/plain": [
       "HBox(children=(FloatProgress(value=1.0, bar_style='info', max=1.0), HTML(value='')))"
      ]
     },
     "metadata": {},
     "output_type": "display_data"
    },
    {
     "name": "stdout",
     "output_type": "stream",
     "text": [
      "\r",
      "Shuffling and writing examples to C:\\Users\\AB\\tensorflow_datasets\\imdb_reviews\\plain_text\\1.0.0.incompleteFGAH0J\\imdb_reviews-train.tfrecord\n"
     ]
    },
    {
     "data": {
      "application/vnd.jupyter.widget-view+json": {
       "model_id": "e1022dd20a884846bd08383990c5cc35",
       "version_major": 2,
       "version_minor": 0
      },
      "text/plain": [
       "HBox(children=(FloatProgress(value=0.0, max=25000.0), HTML(value='')))"
      ]
     },
     "metadata": {},
     "output_type": "display_data"
    },
    {
     "name": "stdout",
     "output_type": "stream",
     "text": [
      "\r"
     ]
    },
    {
     "data": {
      "application/vnd.jupyter.widget-view+json": {
       "model_id": "",
       "version_major": 2,
       "version_minor": 0
      },
      "text/plain": [
       "HBox(children=(FloatProgress(value=1.0, bar_style='info', max=1.0), HTML(value='')))"
      ]
     },
     "metadata": {},
     "output_type": "display_data"
    },
    {
     "name": "stdout",
     "output_type": "stream",
     "text": [
      "\r",
      "Shuffling and writing examples to C:\\Users\\AB\\tensorflow_datasets\\imdb_reviews\\plain_text\\1.0.0.incompleteFGAH0J\\imdb_reviews-test.tfrecord\n"
     ]
    },
    {
     "data": {
      "application/vnd.jupyter.widget-view+json": {
       "model_id": "f094d6096475415fa9e6d952da34bd08",
       "version_major": 2,
       "version_minor": 0
      },
      "text/plain": [
       "HBox(children=(FloatProgress(value=0.0, max=25000.0), HTML(value='')))"
      ]
     },
     "metadata": {},
     "output_type": "display_data"
    },
    {
     "name": "stdout",
     "output_type": "stream",
     "text": [
      "\r"
     ]
    },
    {
     "data": {
      "application/vnd.jupyter.widget-view+json": {
       "model_id": "",
       "version_major": 2,
       "version_minor": 0
      },
      "text/plain": [
       "HBox(children=(FloatProgress(value=1.0, bar_style='info', max=1.0), HTML(value='')))"
      ]
     },
     "metadata": {},
     "output_type": "display_data"
    },
    {
     "name": "stdout",
     "output_type": "stream",
     "text": [
      "\r",
      "Shuffling and writing examples to C:\\Users\\AB\\tensorflow_datasets\\imdb_reviews\\plain_text\\1.0.0.incompleteFGAH0J\\imdb_reviews-unsupervised.tfrecord\n"
     ]
    },
    {
     "data": {
      "application/vnd.jupyter.widget-view+json": {
       "model_id": "c04371ef449345a9887b54ccef9c5067",
       "version_major": 2,
       "version_minor": 0
      },
      "text/plain": [
       "HBox(children=(FloatProgress(value=0.0, max=50000.0), HTML(value='')))"
      ]
     },
     "metadata": {},
     "output_type": "display_data"
    },
    {
     "name": "stdout",
     "output_type": "stream",
     "text": [
      "\u001b[1mDataset imdb_reviews downloaded and prepared to C:\\Users\\AB\\tensorflow_datasets\\imdb_reviews\\plain_text\\1.0.0. Subsequent calls will reuse this data.\u001b[0m\n",
      "\r"
     ]
    }
   ],
   "source": [
    "train_data, validation_data, test_data = tfds.load(name = \"imdb_reviews\", \n",
    "                                                  split = (\"train[:60%]\", \"train[60%:]\", \"test\"),\n",
    "                                                  as_supervised = True)"
   ]
  },
  {
   "cell_type": "markdown",
   "metadata": {},
   "source": [
    "1. Pre-trained embedding model used in \"embedding\" which converts words into tokens and embed them and convert into vectors. \n",
    "   Embed = Converting text into vector of numbers \n",
    " \n",
    "2. First layer (TF Hub Layer) is creared with embedded text\n"
   ]
  },
  {
   "cell_type": "code",
   "execution_count": 6,
   "metadata": {},
   "outputs": [],
   "source": [
    "embedding = \"https://tfhub.dev/google/tf2-preview/gnews-swivel-20dim/1\"\n",
    "hub_layer = hub.KerasLayer(embedding, input_shape=[], dtype = tf.string, trainable=True )"
   ]
  },
  {
   "cell_type": "markdown",
   "metadata": {},
   "source": [
    "1. A sequential model of Keras is created and multiple layers are added to it to define a model \n",
    "\n",
    "2. 1st layer is the Hub Layer created while the 2nd layer has 16 hidden units with activation AF 'relu'"
   ]
  },
  {
   "cell_type": "code",
   "execution_count": 8,
   "metadata": {},
   "outputs": [
    {
     "name": "stdout",
     "output_type": "stream",
     "text": [
      "Model: \"sequential_1\"\n",
      "_________________________________________________________________\n",
      "Layer (type)                 Output Shape              Param #   \n",
      "=================================================================\n",
      "keras_layer (KerasLayer)     (None, 20)                400020    \n",
      "_________________________________________________________________\n",
      "dense (Dense)                (None, 16)                336       \n",
      "_________________________________________________________________\n",
      "dense_1 (Dense)              (None, 1)                 17        \n",
      "=================================================================\n",
      "Total params: 400,373\n",
      "Trainable params: 400,373\n",
      "Non-trainable params: 0\n",
      "_________________________________________________________________\n"
     ]
    }
   ],
   "source": [
    "model = tf.keras.Sequential()\n",
    "model.add(hub_layer)\n",
    "model.add(tf.keras.layers.Dense(16, activation = 'relu'))\n",
    "model.add(tf.keras.layers.Dense(1))\n",
    "\n",
    "model.summary()"
   ]
  },
  {
   "cell_type": "markdown",
   "metadata": {},
   "source": [
    "1. Compliation of model with appropriate optimizer and loss "
   ]
  },
  {
   "cell_type": "code",
   "execution_count": 9,
   "metadata": {},
   "outputs": [],
   "source": [
    "model.compile(optimizer='adam', loss = tf.keras.losses.BinaryCrossentropy(from_logits = True), \n",
    "             metrics=['accuracy'])"
   ]
  },
  {
   "cell_type": "markdown",
   "metadata": {},
   "source": [
    "Fitting the model to train data in a batch of 512 with 50 epochs "
   ]
  },
  {
   "cell_type": "code",
   "execution_count": 11,
   "metadata": {
    "scrolled": true
   },
   "outputs": [
    {
     "name": "stdout",
     "output_type": "stream",
     "text": [
      "Epoch 1/50\n",
      "30/30 - 2s - loss: 0.8087 - accuracy: 0.4935 - val_loss: 0.7163 - val_accuracy: 0.5233\n",
      "Epoch 2/50\n",
      "30/30 - 2s - loss: 0.6863 - accuracy: 0.5559 - val_loss: 0.6659 - val_accuracy: 0.5894\n",
      "Epoch 3/50\n",
      "30/30 - 2s - loss: 0.6378 - accuracy: 0.6115 - val_loss: 0.6212 - val_accuracy: 0.6295\n",
      "Epoch 4/50\n",
      "30/30 - 2s - loss: 0.5950 - accuracy: 0.6518 - val_loss: 0.5828 - val_accuracy: 0.6542\n",
      "Epoch 5/50\n",
      "30/30 - 2s - loss: 0.5517 - accuracy: 0.6933 - val_loss: 0.5430 - val_accuracy: 0.6940\n",
      "Epoch 6/50\n",
      "30/30 - 2s - loss: 0.5069 - accuracy: 0.7313 - val_loss: 0.5006 - val_accuracy: 0.7431\n",
      "Epoch 7/50\n",
      "30/30 - 2s - loss: 0.4607 - accuracy: 0.7741 - val_loss: 0.4609 - val_accuracy: 0.7744\n",
      "Epoch 8/50\n",
      "30/30 - 2s - loss: 0.4172 - accuracy: 0.8093 - val_loss: 0.4265 - val_accuracy: 0.7927\n",
      "Epoch 9/50\n",
      "30/30 - 2s - loss: 0.3787 - accuracy: 0.8306 - val_loss: 0.3992 - val_accuracy: 0.8101\n",
      "Epoch 10/50\n",
      "30/30 - 2s - loss: 0.3478 - accuracy: 0.8462 - val_loss: 0.3767 - val_accuracy: 0.8281\n",
      "Epoch 11/50\n",
      "30/30 - 2s - loss: 0.3195 - accuracy: 0.8635 - val_loss: 0.3604 - val_accuracy: 0.8295\n",
      "Epoch 12/50\n",
      "30/30 - 2s - loss: 0.2961 - accuracy: 0.8765 - val_loss: 0.3451 - val_accuracy: 0.8413\n",
      "Epoch 13/50\n",
      "30/30 - 2s - loss: 0.2749 - accuracy: 0.8871 - val_loss: 0.3333 - val_accuracy: 0.8508\n",
      "Epoch 14/50\n",
      "30/30 - 2s - loss: 0.2565 - accuracy: 0.8948 - val_loss: 0.3243 - val_accuracy: 0.8527\n",
      "Epoch 15/50\n",
      "30/30 - 2s - loss: 0.2399 - accuracy: 0.9031 - val_loss: 0.3169 - val_accuracy: 0.8591\n",
      "Epoch 16/50\n",
      "30/30 - 2s - loss: 0.2247 - accuracy: 0.9101 - val_loss: 0.3113 - val_accuracy: 0.8623\n",
      "Epoch 17/50\n",
      "30/30 - 2s - loss: 0.2112 - accuracy: 0.9175 - val_loss: 0.3067 - val_accuracy: 0.8645\n",
      "Epoch 18/50\n",
      "30/30 - 2s - loss: 0.1984 - accuracy: 0.9229 - val_loss: 0.3040 - val_accuracy: 0.8647\n",
      "Epoch 19/50\n",
      "30/30 - 2s - loss: 0.1865 - accuracy: 0.9296 - val_loss: 0.3010 - val_accuracy: 0.8686\n",
      "Epoch 20/50\n",
      "30/30 - 2s - loss: 0.1745 - accuracy: 0.9337 - val_loss: 0.3006 - val_accuracy: 0.8711\n",
      "Epoch 21/50\n",
      "30/30 - 2s - loss: 0.1623 - accuracy: 0.9393 - val_loss: 0.3005 - val_accuracy: 0.8713\n",
      "Epoch 22/50\n",
      "30/30 - 2s - loss: 0.1509 - accuracy: 0.9446 - val_loss: 0.3009 - val_accuracy: 0.8726\n",
      "Epoch 23/50\n",
      "30/30 - 2s - loss: 0.1410 - accuracy: 0.9507 - val_loss: 0.3024 - val_accuracy: 0.8746\n",
      "Epoch 24/50\n",
      "30/30 - 2s - loss: 0.1313 - accuracy: 0.9558 - val_loss: 0.3041 - val_accuracy: 0.8733\n",
      "Epoch 25/50\n",
      "30/30 - 2s - loss: 0.1229 - accuracy: 0.9594 - val_loss: 0.3064 - val_accuracy: 0.8753\n",
      "Epoch 26/50\n",
      "30/30 - 2s - loss: 0.1143 - accuracy: 0.9621 - val_loss: 0.3114 - val_accuracy: 0.8760\n",
      "Epoch 27/50\n",
      "30/30 - 2s - loss: 0.1069 - accuracy: 0.9664 - val_loss: 0.3139 - val_accuracy: 0.8753\n",
      "Epoch 28/50\n",
      "30/30 - 2s - loss: 0.0992 - accuracy: 0.9693 - val_loss: 0.3174 - val_accuracy: 0.8731\n",
      "Epoch 29/50\n",
      "30/30 - 2s - loss: 0.0930 - accuracy: 0.9719 - val_loss: 0.3245 - val_accuracy: 0.8706\n",
      "Epoch 30/50\n",
      "30/30 - 2s - loss: 0.0867 - accuracy: 0.9748 - val_loss: 0.3293 - val_accuracy: 0.8713\n",
      "Epoch 31/50\n",
      "30/30 - 2s - loss: 0.0806 - accuracy: 0.9773 - val_loss: 0.3340 - val_accuracy: 0.8718\n",
      "Epoch 32/50\n",
      "30/30 - 2s - loss: 0.0745 - accuracy: 0.9803 - val_loss: 0.3408 - val_accuracy: 0.8728\n",
      "Epoch 33/50\n",
      "30/30 - 2s - loss: 0.0694 - accuracy: 0.9819 - val_loss: 0.3504 - val_accuracy: 0.8697\n",
      "Epoch 34/50\n",
      "30/30 - 2s - loss: 0.0643 - accuracy: 0.9833 - val_loss: 0.3569 - val_accuracy: 0.8715\n",
      "Epoch 35/50\n",
      "30/30 - 2s - loss: 0.0586 - accuracy: 0.9860 - val_loss: 0.3656 - val_accuracy: 0.8707\n",
      "Epoch 36/50\n",
      "30/30 - 2s - loss: 0.0538 - accuracy: 0.9879 - val_loss: 0.3745 - val_accuracy: 0.8688\n",
      "Epoch 37/50\n",
      "30/30 - 2s - loss: 0.0501 - accuracy: 0.9899 - val_loss: 0.3816 - val_accuracy: 0.8688\n",
      "Epoch 38/50\n",
      "30/30 - 2s - loss: 0.0461 - accuracy: 0.9903 - val_loss: 0.3903 - val_accuracy: 0.8674\n",
      "Epoch 39/50\n",
      "30/30 - 2s - loss: 0.0426 - accuracy: 0.9919 - val_loss: 0.3988 - val_accuracy: 0.8667\n",
      "Epoch 40/50\n",
      "30/30 - 2s - loss: 0.0393 - accuracy: 0.9923 - val_loss: 0.4072 - val_accuracy: 0.8664\n",
      "Epoch 41/50\n",
      "30/30 - 2s - loss: 0.0357 - accuracy: 0.9934 - val_loss: 0.4144 - val_accuracy: 0.8661\n",
      "Epoch 42/50\n",
      "30/30 - 2s - loss: 0.0327 - accuracy: 0.9944 - val_loss: 0.4242 - val_accuracy: 0.8653\n",
      "Epoch 43/50\n",
      "30/30 - 2s - loss: 0.0303 - accuracy: 0.9948 - val_loss: 0.4324 - val_accuracy: 0.8647\n",
      "Epoch 44/50\n",
      "30/30 - 2s - loss: 0.0282 - accuracy: 0.9957 - val_loss: 0.4407 - val_accuracy: 0.8641\n",
      "Epoch 45/50\n",
      "30/30 - 2s - loss: 0.0255 - accuracy: 0.9961 - val_loss: 0.4508 - val_accuracy: 0.8636\n",
      "Epoch 46/50\n",
      "30/30 - 2s - loss: 0.0234 - accuracy: 0.9967 - val_loss: 0.4598 - val_accuracy: 0.8629\n",
      "Epoch 47/50\n",
      "30/30 - 2s - loss: 0.0215 - accuracy: 0.9973 - val_loss: 0.4671 - val_accuracy: 0.8635\n",
      "Epoch 48/50\n",
      "30/30 - 2s - loss: 0.0199 - accuracy: 0.9977 - val_loss: 0.4771 - val_accuracy: 0.8628\n",
      "Epoch 49/50\n",
      "30/30 - 2s - loss: 0.0183 - accuracy: 0.9981 - val_loss: 0.4863 - val_accuracy: 0.8629\n",
      "Epoch 50/50\n",
      "30/30 - 2s - loss: 0.0170 - accuracy: 0.9987 - val_loss: 0.4946 - val_accuracy: 0.8624\n"
     ]
    }
   ],
   "source": [
    "history = model.fit(train_data.shuffle(10000).batch(512), \n",
    "                    epochs = 50, \n",
    "                    verbose = 2, \n",
    "                    validation_data = validation_data.batch(512))"
   ]
  },
  {
   "cell_type": "code",
   "execution_count": 12,
   "metadata": {},
   "outputs": [
    {
     "name": "stdout",
     "output_type": "stream",
     "text": [
      "49/49 - 1s - loss: 0.5543 - accuracy: 0.8469\n",
      "loss: 0.554\n",
      "accuracy: 0.847\n"
     ]
    }
   ],
   "source": [
    "results = model.evaluate(test_data.batch(512), verbose = 2)\n",
    "for name, value in zip(model.metrics_names, results):\n",
    "  print(\"%s: %.3f\" % (name, value))"
   ]
  },
  {
   "cell_type": "code",
   "execution_count": null,
   "metadata": {},
   "outputs": [],
   "source": []
  },
  {
   "cell_type": "code",
   "execution_count": null,
   "metadata": {},
   "outputs": [],
   "source": []
  }
 ],
 "metadata": {
  "kernelspec": {
   "display_name": "Python 3",
   "language": "python",
   "name": "python3"
  },
  "language_info": {
   "codemirror_mode": {
    "name": "ipython",
    "version": 3
   },
   "file_extension": ".py",
   "mimetype": "text/x-python",
   "name": "python",
   "nbconvert_exporter": "python",
   "pygments_lexer": "ipython3",
   "version": "3.7.6"
  }
 },
 "nbformat": 4,
 "nbformat_minor": 4
}
